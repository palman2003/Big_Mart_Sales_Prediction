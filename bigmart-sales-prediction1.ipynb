{
 "cells": [
  {
   "cell_type": "code",
   "execution_count": 1,
   "id": "5441e7ff",
   "metadata": {
    "_cell_guid": "b1076dfc-b9ad-4769-8c92-a6c4dae69d19",
    "_uuid": "8f2839f25d086af736a60e9eeb907d3b93b6e0e5",
    "execution": {
     "iopub.execute_input": "2023-07-02T09:54:02.807135Z",
     "iopub.status.busy": "2023-07-02T09:54:02.806761Z",
     "iopub.status.idle": "2023-07-02T09:54:02.829466Z",
     "shell.execute_reply": "2023-07-02T09:54:02.828644Z"
    },
    "papermill": {
     "duration": 0.040333,
     "end_time": "2023-07-02T09:54:02.832201",
     "exception": false,
     "start_time": "2023-07-02T09:54:02.791868",
     "status": "completed"
    },
    "tags": []
   },
   "outputs": [
    {
     "name": "stdout",
     "output_type": "stream",
     "text": [
      "/kaggle/input/bigmart-sales-data/Train.csv\n",
      "/kaggle/input/bigmart-sales-data/Test.csv\n"
     ]
    }
   ],
   "source": [
    "# This Python 3 environment comes with many helpful analytics libraries installed\n",
    "# It is defined by the kaggle/python Docker image: https://github.com/kaggle/docker-python\n",
    "# For example, here's several helpful packages to load\n",
    "\n",
    "import numpy as np # linear algebra\n",
    "import pandas as pd # data processing, CSV file I/O (e.g. pd.read_csv)\n",
    "\n",
    "# Input data files are available in the read-only \"../input/\" directory\n",
    "# For example, running this (by clicking run or pressing Shift+Enter) will list all files under the input directory\n",
    "\n",
    "import os\n",
    "for dirname, _, filenames in os.walk('/kaggle/input'):\n",
    "    for filename in filenames:\n",
    "        print(os.path.join(dirname, filename))\n",
    "\n",
    "# You can write up to 20GB to the current directory (/kaggle/working/) that gets preserved as output when you create a version using \"Save & Run All\" \n",
    "# You can also write temporary files to /kaggle/temp/, but they won't be saved outside of the current session"
   ]
  },
  {
   "cell_type": "markdown",
   "id": "c6cab982",
   "metadata": {
    "papermill": {
     "duration": 0.01058,
     "end_time": "2023-07-02T09:54:02.854096",
     "exception": false,
     "start_time": "2023-07-02T09:54:02.843516",
     "status": "completed"
    },
    "tags": []
   },
   "source": [
    "**IMPORTING MODULES**"
   ]
  },
  {
   "cell_type": "code",
   "execution_count": 2,
   "id": "53d5a33f",
   "metadata": {
    "execution": {
     "iopub.execute_input": "2023-07-02T09:54:02.877794Z",
     "iopub.status.busy": "2023-07-02T09:54:02.877376Z",
     "iopub.status.idle": "2023-07-02T09:54:04.759173Z",
     "shell.execute_reply": "2023-07-02T09:54:04.758124Z"
    },
    "papermill": {
     "duration": 1.896685,
     "end_time": "2023-07-02T09:54:04.761918",
     "exception": false,
     "start_time": "2023-07-02T09:54:02.865233",
     "status": "completed"
    },
    "tags": []
   },
   "outputs": [],
   "source": [
    "import pandas as pd\n",
    "import numpy as np\n",
    "import matplotlib.pyplot as plt\n",
    "import seaborn as sns\n",
    "from sklearn.preprocessing import LabelEncoder\n",
    "from sklearn.model_selection import train_test_split\n",
    "from xgboost import XGBRegressor\n",
    "from sklearn import metrics\n",
    "\n"
   ]
  },
  {
   "cell_type": "markdown",
   "id": "925931b6",
   "metadata": {
    "papermill": {
     "duration": 0.010484,
     "end_time": "2023-07-02T09:54:04.783595",
     "exception": false,
     "start_time": "2023-07-02T09:54:04.773111",
     "status": "completed"
    },
    "tags": []
   },
   "source": [
    "**EXPOLATORY DATA ANALYSIS**"
   ]
  },
  {
   "cell_type": "code",
   "execution_count": 3,
   "id": "2633c562",
   "metadata": {
    "execution": {
     "iopub.execute_input": "2023-07-02T09:54:04.807484Z",
     "iopub.status.busy": "2023-07-02T09:54:04.806637Z",
     "iopub.status.idle": "2023-07-02T09:54:04.893803Z",
     "shell.execute_reply": "2023-07-02T09:54:04.892663Z"
    },
    "papermill": {
     "duration": 0.101897,
     "end_time": "2023-07-02T09:54:04.896395",
     "exception": false,
     "start_time": "2023-07-02T09:54:04.794498",
     "status": "completed"
    },
    "tags": []
   },
   "outputs": [
    {
     "data": {
      "text/html": [
       "<div>\n",
       "<style scoped>\n",
       "    .dataframe tbody tr th:only-of-type {\n",
       "        vertical-align: middle;\n",
       "    }\n",
       "\n",
       "    .dataframe tbody tr th {\n",
       "        vertical-align: top;\n",
       "    }\n",
       "\n",
       "    .dataframe thead th {\n",
       "        text-align: right;\n",
       "    }\n",
       "</style>\n",
       "<table border=\"1\" class=\"dataframe\">\n",
       "  <thead>\n",
       "    <tr style=\"text-align: right;\">\n",
       "      <th></th>\n",
       "      <th>Item_Identifier</th>\n",
       "      <th>Item_Weight</th>\n",
       "      <th>Item_Fat_Content</th>\n",
       "      <th>Item_Visibility</th>\n",
       "      <th>Item_Type</th>\n",
       "      <th>Item_MRP</th>\n",
       "      <th>Outlet_Identifier</th>\n",
       "      <th>Outlet_Establishment_Year</th>\n",
       "      <th>Outlet_Size</th>\n",
       "      <th>Outlet_Location_Type</th>\n",
       "      <th>Outlet_Type</th>\n",
       "      <th>Item_Outlet_Sales</th>\n",
       "    </tr>\n",
       "  </thead>\n",
       "  <tbody>\n",
       "    <tr>\n",
       "      <th>0</th>\n",
       "      <td>FDA15</td>\n",
       "      <td>9.30</td>\n",
       "      <td>Low Fat</td>\n",
       "      <td>0.016047</td>\n",
       "      <td>Dairy</td>\n",
       "      <td>249.8092</td>\n",
       "      <td>OUT049</td>\n",
       "      <td>1999</td>\n",
       "      <td>Medium</td>\n",
       "      <td>Tier 1</td>\n",
       "      <td>Supermarket Type1</td>\n",
       "      <td>3735.1380</td>\n",
       "    </tr>\n",
       "    <tr>\n",
       "      <th>1</th>\n",
       "      <td>DRC01</td>\n",
       "      <td>5.92</td>\n",
       "      <td>Regular</td>\n",
       "      <td>0.019278</td>\n",
       "      <td>Soft Drinks</td>\n",
       "      <td>48.2692</td>\n",
       "      <td>OUT018</td>\n",
       "      <td>2009</td>\n",
       "      <td>Medium</td>\n",
       "      <td>Tier 3</td>\n",
       "      <td>Supermarket Type2</td>\n",
       "      <td>443.4228</td>\n",
       "    </tr>\n",
       "    <tr>\n",
       "      <th>2</th>\n",
       "      <td>FDN15</td>\n",
       "      <td>17.50</td>\n",
       "      <td>Low Fat</td>\n",
       "      <td>0.016760</td>\n",
       "      <td>Meat</td>\n",
       "      <td>141.6180</td>\n",
       "      <td>OUT049</td>\n",
       "      <td>1999</td>\n",
       "      <td>Medium</td>\n",
       "      <td>Tier 1</td>\n",
       "      <td>Supermarket Type1</td>\n",
       "      <td>2097.2700</td>\n",
       "    </tr>\n",
       "    <tr>\n",
       "      <th>3</th>\n",
       "      <td>FDX07</td>\n",
       "      <td>19.20</td>\n",
       "      <td>Regular</td>\n",
       "      <td>0.000000</td>\n",
       "      <td>Fruits and Vegetables</td>\n",
       "      <td>182.0950</td>\n",
       "      <td>OUT010</td>\n",
       "      <td>1998</td>\n",
       "      <td>NaN</td>\n",
       "      <td>Tier 3</td>\n",
       "      <td>Grocery Store</td>\n",
       "      <td>732.3800</td>\n",
       "    </tr>\n",
       "    <tr>\n",
       "      <th>4</th>\n",
       "      <td>NCD19</td>\n",
       "      <td>8.93</td>\n",
       "      <td>Low Fat</td>\n",
       "      <td>0.000000</td>\n",
       "      <td>Household</td>\n",
       "      <td>53.8614</td>\n",
       "      <td>OUT013</td>\n",
       "      <td>1987</td>\n",
       "      <td>High</td>\n",
       "      <td>Tier 3</td>\n",
       "      <td>Supermarket Type1</td>\n",
       "      <td>994.7052</td>\n",
       "    </tr>\n",
       "  </tbody>\n",
       "</table>\n",
       "</div>"
      ],
      "text/plain": [
       "  Item_Identifier  Item_Weight Item_Fat_Content  Item_Visibility  \\\n",
       "0           FDA15         9.30          Low Fat         0.016047   \n",
       "1           DRC01         5.92          Regular         0.019278   \n",
       "2           FDN15        17.50          Low Fat         0.016760   \n",
       "3           FDX07        19.20          Regular         0.000000   \n",
       "4           NCD19         8.93          Low Fat         0.000000   \n",
       "\n",
       "               Item_Type  Item_MRP Outlet_Identifier  \\\n",
       "0                  Dairy  249.8092            OUT049   \n",
       "1            Soft Drinks   48.2692            OUT018   \n",
       "2                   Meat  141.6180            OUT049   \n",
       "3  Fruits and Vegetables  182.0950            OUT010   \n",
       "4              Household   53.8614            OUT013   \n",
       "\n",
       "   Outlet_Establishment_Year Outlet_Size Outlet_Location_Type  \\\n",
       "0                       1999      Medium               Tier 1   \n",
       "1                       2009      Medium               Tier 3   \n",
       "2                       1999      Medium               Tier 1   \n",
       "3                       1998         NaN               Tier 3   \n",
       "4                       1987        High               Tier 3   \n",
       "\n",
       "         Outlet_Type  Item_Outlet_Sales  \n",
       "0  Supermarket Type1          3735.1380  \n",
       "1  Supermarket Type2           443.4228  \n",
       "2  Supermarket Type1          2097.2700  \n",
       "3      Grocery Store           732.3800  \n",
       "4  Supermarket Type1           994.7052  "
      ]
     },
     "execution_count": 3,
     "metadata": {},
     "output_type": "execute_result"
    }
   ],
   "source": [
    "big_mart_data=pd.read_csv('/kaggle/input/bigmart-sales-data/Train.csv')\n",
    "big_mart_data.head()"
   ]
  },
  {
   "cell_type": "code",
   "execution_count": 4,
   "id": "79615acd",
   "metadata": {
    "execution": {
     "iopub.execute_input": "2023-07-02T09:54:04.920953Z",
     "iopub.status.busy": "2023-07-02T09:54:04.920530Z",
     "iopub.status.idle": "2023-07-02T09:54:04.951033Z",
     "shell.execute_reply": "2023-07-02T09:54:04.950011Z"
    },
    "papermill": {
     "duration": 0.045748,
     "end_time": "2023-07-02T09:54:04.953439",
     "exception": false,
     "start_time": "2023-07-02T09:54:04.907691",
     "status": "completed"
    },
    "tags": []
   },
   "outputs": [
    {
     "data": {
      "text/plain": [
       "Item_Identifier                 0\n",
       "Item_Weight                  1463\n",
       "Item_Fat_Content                0\n",
       "Item_Visibility                 0\n",
       "Item_Type                       0\n",
       "Item_MRP                        0\n",
       "Outlet_Identifier               0\n",
       "Outlet_Establishment_Year       0\n",
       "Outlet_Size                  2410\n",
       "Outlet_Location_Type            0\n",
       "Outlet_Type                     0\n",
       "Item_Outlet_Sales               0\n",
       "dtype: int64"
      ]
     },
     "execution_count": 4,
     "metadata": {},
     "output_type": "execute_result"
    }
   ],
   "source": [
    "#check the missing values\n",
    "big_mart_data.isnull().sum()\n"
   ]
  },
  {
   "cell_type": "code",
   "execution_count": 5,
   "id": "e19aa4cc",
   "metadata": {
    "execution": {
     "iopub.execute_input": "2023-07-02T09:54:04.978620Z",
     "iopub.status.busy": "2023-07-02T09:54:04.977862Z",
     "iopub.status.idle": "2023-07-02T09:54:04.984982Z",
     "shell.execute_reply": "2023-07-02T09:54:04.983968Z"
    },
    "papermill": {
     "duration": 0.022187,
     "end_time": "2023-07-02T09:54:04.987263",
     "exception": false,
     "start_time": "2023-07-02T09:54:04.965076",
     "status": "completed"
    },
    "tags": []
   },
   "outputs": [],
   "source": [
    "#replacing the missing values with the mean(for numeric type) and mode(for str type)\n",
    "mean_val=big_mart_data['Item_Weight'].mean()\n",
    "#fillng the Item_weight with the mean values\n",
    "big_mart_data['Item_Weight'].fillna(mean_val,inplace=True)"
   ]
  },
  {
   "cell_type": "code",
   "execution_count": 6,
   "id": "ce4beb40",
   "metadata": {
    "execution": {
     "iopub.execute_input": "2023-07-02T09:54:05.012314Z",
     "iopub.status.busy": "2023-07-02T09:54:05.011933Z",
     "iopub.status.idle": "2023-07-02T09:54:05.022595Z",
     "shell.execute_reply": "2023-07-02T09:54:05.021145Z"
    },
    "papermill": {
     "duration": 0.026252,
     "end_time": "2023-07-02T09:54:05.025159",
     "exception": false,
     "start_time": "2023-07-02T09:54:04.998907",
     "status": "completed"
    },
    "tags": []
   },
   "outputs": [
    {
     "name": "stdout",
     "output_type": "stream",
     "text": [
      "Medium\n"
     ]
    }
   ],
   "source": [
    "#replacing the missing values in Outlet_size with mode\n",
    "mode_outlet_size = big_mart_data['Outlet_Size'].mode()[0]\n",
    "print(mode_outlet_size)"
   ]
  },
  {
   "cell_type": "code",
   "execution_count": 7,
   "id": "15706b28",
   "metadata": {
    "execution": {
     "iopub.execute_input": "2023-07-02T09:54:05.050435Z",
     "iopub.status.busy": "2023-07-02T09:54:05.049760Z",
     "iopub.status.idle": "2023-07-02T09:54:05.057980Z",
     "shell.execute_reply": "2023-07-02T09:54:05.056827Z"
    },
    "papermill": {
     "duration": 0.023728,
     "end_time": "2023-07-02T09:54:05.060374",
     "exception": false,
     "start_time": "2023-07-02T09:54:05.036646",
     "status": "completed"
    },
    "tags": []
   },
   "outputs": [
    {
     "name": "stdout",
     "output_type": "stream",
     "text": [
      "0       False\n",
      "1       False\n",
      "2       False\n",
      "3        True\n",
      "4       False\n",
      "        ...  \n",
      "8518    False\n",
      "8519     True\n",
      "8520    False\n",
      "8521    False\n",
      "8522    False\n",
      "Name: Outlet_Size, Length: 8523, dtype: bool\n"
     ]
    }
   ],
   "source": [
    "missing_values=big_mart_data['Outlet_Size'].isnull()\n",
    "print(missing_values)"
   ]
  },
  {
   "cell_type": "code",
   "execution_count": 8,
   "id": "bae9bb9d",
   "metadata": {
    "execution": {
     "iopub.execute_input": "2023-07-02T09:54:05.086164Z",
     "iopub.status.busy": "2023-07-02T09:54:05.085353Z",
     "iopub.status.idle": "2023-07-02T09:54:05.092946Z",
     "shell.execute_reply": "2023-07-02T09:54:05.091994Z"
    },
    "papermill": {
     "duration": 0.023567,
     "end_time": "2023-07-02T09:54:05.095457",
     "exception": false,
     "start_time": "2023-07-02T09:54:05.071890",
     "status": "completed"
    },
    "tags": []
   },
   "outputs": [],
   "source": [
    "big_mart_data.loc[missing_values,'Outlet_Size'] = big_mart_data.loc[missing_values,'Outlet_Type'].apply(lambda x: mode_outlet_size)"
   ]
  },
  {
   "cell_type": "code",
   "execution_count": 9,
   "id": "69b22e29",
   "metadata": {
    "execution": {
     "iopub.execute_input": "2023-07-02T09:54:05.120435Z",
     "iopub.status.busy": "2023-07-02T09:54:05.120012Z",
     "iopub.status.idle": "2023-07-02T09:54:05.139416Z",
     "shell.execute_reply": "2023-07-02T09:54:05.138289Z"
    },
    "papermill": {
     "duration": 0.034863,
     "end_time": "2023-07-02T09:54:05.142011",
     "exception": false,
     "start_time": "2023-07-02T09:54:05.107148",
     "status": "completed"
    },
    "tags": []
   },
   "outputs": [
    {
     "data": {
      "text/html": [
       "<div>\n",
       "<style scoped>\n",
       "    .dataframe tbody tr th:only-of-type {\n",
       "        vertical-align: middle;\n",
       "    }\n",
       "\n",
       "    .dataframe tbody tr th {\n",
       "        vertical-align: top;\n",
       "    }\n",
       "\n",
       "    .dataframe thead th {\n",
       "        text-align: right;\n",
       "    }\n",
       "</style>\n",
       "<table border=\"1\" class=\"dataframe\">\n",
       "  <thead>\n",
       "    <tr style=\"text-align: right;\">\n",
       "      <th></th>\n",
       "      <th>Item_Identifier</th>\n",
       "      <th>Item_Weight</th>\n",
       "      <th>Item_Fat_Content</th>\n",
       "      <th>Item_Visibility</th>\n",
       "      <th>Item_Type</th>\n",
       "      <th>Item_MRP</th>\n",
       "      <th>Outlet_Identifier</th>\n",
       "      <th>Outlet_Establishment_Year</th>\n",
       "      <th>Outlet_Size</th>\n",
       "      <th>Outlet_Location_Type</th>\n",
       "      <th>Outlet_Type</th>\n",
       "      <th>Item_Outlet_Sales</th>\n",
       "    </tr>\n",
       "  </thead>\n",
       "  <tbody>\n",
       "    <tr>\n",
       "      <th>0</th>\n",
       "      <td>FDA15</td>\n",
       "      <td>9.30</td>\n",
       "      <td>Low Fat</td>\n",
       "      <td>0.016047</td>\n",
       "      <td>Dairy</td>\n",
       "      <td>249.8092</td>\n",
       "      <td>OUT049</td>\n",
       "      <td>1999</td>\n",
       "      <td>Medium</td>\n",
       "      <td>Tier 1</td>\n",
       "      <td>Supermarket Type1</td>\n",
       "      <td>3735.1380</td>\n",
       "    </tr>\n",
       "    <tr>\n",
       "      <th>1</th>\n",
       "      <td>DRC01</td>\n",
       "      <td>5.92</td>\n",
       "      <td>Regular</td>\n",
       "      <td>0.019278</td>\n",
       "      <td>Soft Drinks</td>\n",
       "      <td>48.2692</td>\n",
       "      <td>OUT018</td>\n",
       "      <td>2009</td>\n",
       "      <td>Medium</td>\n",
       "      <td>Tier 3</td>\n",
       "      <td>Supermarket Type2</td>\n",
       "      <td>443.4228</td>\n",
       "    </tr>\n",
       "    <tr>\n",
       "      <th>2</th>\n",
       "      <td>FDN15</td>\n",
       "      <td>17.50</td>\n",
       "      <td>Low Fat</td>\n",
       "      <td>0.016760</td>\n",
       "      <td>Meat</td>\n",
       "      <td>141.6180</td>\n",
       "      <td>OUT049</td>\n",
       "      <td>1999</td>\n",
       "      <td>Medium</td>\n",
       "      <td>Tier 1</td>\n",
       "      <td>Supermarket Type1</td>\n",
       "      <td>2097.2700</td>\n",
       "    </tr>\n",
       "    <tr>\n",
       "      <th>3</th>\n",
       "      <td>FDX07</td>\n",
       "      <td>19.20</td>\n",
       "      <td>Regular</td>\n",
       "      <td>0.000000</td>\n",
       "      <td>Fruits and Vegetables</td>\n",
       "      <td>182.0950</td>\n",
       "      <td>OUT010</td>\n",
       "      <td>1998</td>\n",
       "      <td>Medium</td>\n",
       "      <td>Tier 3</td>\n",
       "      <td>Grocery Store</td>\n",
       "      <td>732.3800</td>\n",
       "    </tr>\n",
       "    <tr>\n",
       "      <th>4</th>\n",
       "      <td>NCD19</td>\n",
       "      <td>8.93</td>\n",
       "      <td>Low Fat</td>\n",
       "      <td>0.000000</td>\n",
       "      <td>Household</td>\n",
       "      <td>53.8614</td>\n",
       "      <td>OUT013</td>\n",
       "      <td>1987</td>\n",
       "      <td>High</td>\n",
       "      <td>Tier 3</td>\n",
       "      <td>Supermarket Type1</td>\n",
       "      <td>994.7052</td>\n",
       "    </tr>\n",
       "  </tbody>\n",
       "</table>\n",
       "</div>"
      ],
      "text/plain": [
       "  Item_Identifier  Item_Weight Item_Fat_Content  Item_Visibility  \\\n",
       "0           FDA15         9.30          Low Fat         0.016047   \n",
       "1           DRC01         5.92          Regular         0.019278   \n",
       "2           FDN15        17.50          Low Fat         0.016760   \n",
       "3           FDX07        19.20          Regular         0.000000   \n",
       "4           NCD19         8.93          Low Fat         0.000000   \n",
       "\n",
       "               Item_Type  Item_MRP Outlet_Identifier  \\\n",
       "0                  Dairy  249.8092            OUT049   \n",
       "1            Soft Drinks   48.2692            OUT018   \n",
       "2                   Meat  141.6180            OUT049   \n",
       "3  Fruits and Vegetables  182.0950            OUT010   \n",
       "4              Household   53.8614            OUT013   \n",
       "\n",
       "   Outlet_Establishment_Year Outlet_Size Outlet_Location_Type  \\\n",
       "0                       1999      Medium               Tier 1   \n",
       "1                       2009      Medium               Tier 3   \n",
       "2                       1999      Medium               Tier 1   \n",
       "3                       1998      Medium               Tier 3   \n",
       "4                       1987        High               Tier 3   \n",
       "\n",
       "         Outlet_Type  Item_Outlet_Sales  \n",
       "0  Supermarket Type1          3735.1380  \n",
       "1  Supermarket Type2           443.4228  \n",
       "2  Supermarket Type1          2097.2700  \n",
       "3      Grocery Store           732.3800  \n",
       "4  Supermarket Type1           994.7052  "
      ]
     },
     "execution_count": 9,
     "metadata": {},
     "output_type": "execute_result"
    }
   ],
   "source": [
    "big_mart_data.head()"
   ]
  },
  {
   "cell_type": "markdown",
   "id": "c959d6d4",
   "metadata": {
    "papermill": {
     "duration": 0.011375,
     "end_time": "2023-07-02T09:54:05.165408",
     "exception": false,
     "start_time": "2023-07-02T09:54:05.154033",
     "status": "completed"
    },
    "tags": []
   },
   "source": [
    "**DATA ANALYSIS**"
   ]
  },
  {
   "cell_type": "code",
   "execution_count": 10,
   "id": "120a3fe7",
   "metadata": {
    "execution": {
     "iopub.execute_input": "2023-07-02T09:54:05.191425Z",
     "iopub.status.busy": "2023-07-02T09:54:05.190735Z",
     "iopub.status.idle": "2023-07-02T09:54:05.222735Z",
     "shell.execute_reply": "2023-07-02T09:54:05.221515Z"
    },
    "papermill": {
     "duration": 0.048172,
     "end_time": "2023-07-02T09:54:05.225394",
     "exception": false,
     "start_time": "2023-07-02T09:54:05.177222",
     "status": "completed"
    },
    "tags": []
   },
   "outputs": [
    {
     "data": {
      "text/html": [
       "<div>\n",
       "<style scoped>\n",
       "    .dataframe tbody tr th:only-of-type {\n",
       "        vertical-align: middle;\n",
       "    }\n",
       "\n",
       "    .dataframe tbody tr th {\n",
       "        vertical-align: top;\n",
       "    }\n",
       "\n",
       "    .dataframe thead th {\n",
       "        text-align: right;\n",
       "    }\n",
       "</style>\n",
       "<table border=\"1\" class=\"dataframe\">\n",
       "  <thead>\n",
       "    <tr style=\"text-align: right;\">\n",
       "      <th></th>\n",
       "      <th>Item_Weight</th>\n",
       "      <th>Item_Visibility</th>\n",
       "      <th>Item_MRP</th>\n",
       "      <th>Outlet_Establishment_Year</th>\n",
       "      <th>Item_Outlet_Sales</th>\n",
       "    </tr>\n",
       "  </thead>\n",
       "  <tbody>\n",
       "    <tr>\n",
       "      <th>count</th>\n",
       "      <td>8523.000000</td>\n",
       "      <td>8523.000000</td>\n",
       "      <td>8523.000000</td>\n",
       "      <td>8523.000000</td>\n",
       "      <td>8523.000000</td>\n",
       "    </tr>\n",
       "    <tr>\n",
       "      <th>mean</th>\n",
       "      <td>12.857645</td>\n",
       "      <td>0.066132</td>\n",
       "      <td>140.992782</td>\n",
       "      <td>1997.831867</td>\n",
       "      <td>2181.288914</td>\n",
       "    </tr>\n",
       "    <tr>\n",
       "      <th>std</th>\n",
       "      <td>4.226124</td>\n",
       "      <td>0.051598</td>\n",
       "      <td>62.275067</td>\n",
       "      <td>8.371760</td>\n",
       "      <td>1706.499616</td>\n",
       "    </tr>\n",
       "    <tr>\n",
       "      <th>min</th>\n",
       "      <td>4.555000</td>\n",
       "      <td>0.000000</td>\n",
       "      <td>31.290000</td>\n",
       "      <td>1985.000000</td>\n",
       "      <td>33.290000</td>\n",
       "    </tr>\n",
       "    <tr>\n",
       "      <th>25%</th>\n",
       "      <td>9.310000</td>\n",
       "      <td>0.026989</td>\n",
       "      <td>93.826500</td>\n",
       "      <td>1987.000000</td>\n",
       "      <td>834.247400</td>\n",
       "    </tr>\n",
       "    <tr>\n",
       "      <th>50%</th>\n",
       "      <td>12.857645</td>\n",
       "      <td>0.053931</td>\n",
       "      <td>143.012800</td>\n",
       "      <td>1999.000000</td>\n",
       "      <td>1794.331000</td>\n",
       "    </tr>\n",
       "    <tr>\n",
       "      <th>75%</th>\n",
       "      <td>16.000000</td>\n",
       "      <td>0.094585</td>\n",
       "      <td>185.643700</td>\n",
       "      <td>2004.000000</td>\n",
       "      <td>3101.296400</td>\n",
       "    </tr>\n",
       "    <tr>\n",
       "      <th>max</th>\n",
       "      <td>21.350000</td>\n",
       "      <td>0.328391</td>\n",
       "      <td>266.888400</td>\n",
       "      <td>2009.000000</td>\n",
       "      <td>13086.964800</td>\n",
       "    </tr>\n",
       "  </tbody>\n",
       "</table>\n",
       "</div>"
      ],
      "text/plain": [
       "       Item_Weight  Item_Visibility     Item_MRP  Outlet_Establishment_Year  \\\n",
       "count  8523.000000      8523.000000  8523.000000                8523.000000   \n",
       "mean     12.857645         0.066132   140.992782                1997.831867   \n",
       "std       4.226124         0.051598    62.275067                   8.371760   \n",
       "min       4.555000         0.000000    31.290000                1985.000000   \n",
       "25%       9.310000         0.026989    93.826500                1987.000000   \n",
       "50%      12.857645         0.053931   143.012800                1999.000000   \n",
       "75%      16.000000         0.094585   185.643700                2004.000000   \n",
       "max      21.350000         0.328391   266.888400                2009.000000   \n",
       "\n",
       "       Item_Outlet_Sales  \n",
       "count        8523.000000  \n",
       "mean         2181.288914  \n",
       "std          1706.499616  \n",
       "min            33.290000  \n",
       "25%           834.247400  \n",
       "50%          1794.331000  \n",
       "75%          3101.296400  \n",
       "max         13086.964800  "
      ]
     },
     "execution_count": 10,
     "metadata": {},
     "output_type": "execute_result"
    }
   ],
   "source": [
    "big_mart_data.describe()"
   ]
  },
  {
   "cell_type": "code",
   "execution_count": 11,
   "id": "4594d3d5",
   "metadata": {
    "execution": {
     "iopub.execute_input": "2023-07-02T09:54:05.252663Z",
     "iopub.status.busy": "2023-07-02T09:54:05.252245Z",
     "iopub.status.idle": "2023-07-02T09:54:05.258101Z",
     "shell.execute_reply": "2023-07-02T09:54:05.257041Z"
    },
    "papermill": {
     "duration": 0.022809,
     "end_time": "2023-07-02T09:54:05.260480",
     "exception": false,
     "start_time": "2023-07-02T09:54:05.237671",
     "status": "completed"
    },
    "tags": []
   },
   "outputs": [],
   "source": [
    "sns.set()"
   ]
  },
  {
   "cell_type": "code",
   "execution_count": 12,
   "id": "e154cbfd",
   "metadata": {
    "execution": {
     "iopub.execute_input": "2023-07-02T09:54:05.286761Z",
     "iopub.status.busy": "2023-07-02T09:54:05.286046Z",
     "iopub.status.idle": "2023-07-02T09:54:05.879623Z",
     "shell.execute_reply": "2023-07-02T09:54:05.878511Z"
    },
    "papermill": {
     "duration": 0.609614,
     "end_time": "2023-07-02T09:54:05.882154",
     "exception": false,
     "start_time": "2023-07-02T09:54:05.272540",
     "status": "completed"
    },
    "tags": []
   },
   "outputs": [
    {
     "data": {
      "text/plain": [
       "<Figure size 600x600 with 0 Axes>"
      ]
     },
     "metadata": {},
     "output_type": "display_data"
    },
    {
     "data": {
      "image/png": "[encoded data removed]",
      "text/plain": [
       "<Figure size 500x500 with 1 Axes>"
      ]
     },
     "metadata": {},
     "output_type": "display_data"
    }
   ],
   "source": [
    "#Item_type distribution\n",
    "plt.figure(figsize=(6,6))\n",
    "sns.displot(big_mart_data['Item_Weight'])\n",
    "plt.show()"
   ]
  },
  {
   "cell_type": "code",
   "execution_count": 13,
   "id": "c743a521",
   "metadata": {
    "execution": {
     "iopub.execute_input": "2023-07-02T09:54:05.909405Z",
     "iopub.status.busy": "2023-07-02T09:54:05.908971Z",
     "iopub.status.idle": "2023-07-02T09:54:06.625367Z",
     "shell.execute_reply": "2023-07-02T09:54:06.624417Z"
    },
    "papermill": {
     "duration": 0.733126,
     "end_time": "2023-07-02T09:54:06.628080",
     "exception": false,
     "start_time": "2023-07-02T09:54:05.894954",
     "status": "completed"
    },
    "tags": []
   },
   "outputs": [
    {
     "data": {
      "text/plain": [
       "<Figure size 600x600 with 0 Axes>"
      ]
     },
     "metadata": {},
     "output_type": "display_data"
    },
    {
     "data": {
      "image/png": "[encoded data removed]",
      "text/plain": [
       "<Figure size 500x500 with 1 Axes>"
      ]
     },
     "metadata": {},
     "output_type": "display_data"
    }
   ],
   "source": [
    "#Item_visibility Distribution\n",
    "plt.figure(figsize=(6,6))\n",
    "sns.displot(big_mart_data['Item_Visibility'])\n",
    "plt.show()"
   ]
  },
  {
   "cell_type": "code",
   "execution_count": 14,
   "id": "9543d45f",
   "metadata": {
    "execution": {
     "iopub.execute_input": "2023-07-02T09:54:06.656275Z",
     "iopub.status.busy": "2023-07-02T09:54:06.655877Z",
     "iopub.status.idle": "2023-07-02T09:54:07.302002Z",
     "shell.execute_reply": "2023-07-02T09:54:07.300710Z"
    },
    "papermill": {
     "duration": 0.663417,
     "end_time": "2023-07-02T09:54:07.304619",
     "exception": false,
     "start_time": "2023-07-02T09:54:06.641202",
     "status": "completed"
    },
    "tags": []
   },
   "outputs": [
    {
     "data": {
      "text/plain": [
       "<Figure size 600x600 with 0 Axes>"
      ]
     },
     "metadata": {},
     "output_type": "display_data"
    },
    {
     "data": {
      "image/png": "[encoded data removed]",
      "text/plain": [
       "<Figure size 500x500 with 1 Axes>"
      ]
     },
     "metadata": {},
     "output_type": "display_data"
    }
   ],
   "source": [
    "#Item_MRP Distribution\n",
    "plt.figure(figsize=(6,6))\n",
    "sns.displot(big_mart_data['Item_MRP'])\n",
    "plt.show()"
   ]
  },
  {
   "cell_type": "code",
   "execution_count": 15,
   "id": "f489764c",
   "metadata": {
    "execution": {
     "iopub.execute_input": "2023-07-02T09:54:07.334334Z",
     "iopub.status.busy": "2023-07-02T09:54:07.333948Z",
     "iopub.status.idle": "2023-07-02T09:54:08.054058Z",
     "shell.execute_reply": "2023-07-02T09:54:08.052821Z"
    },
    "papermill": {
     "duration": 0.738153,
     "end_time": "2023-07-02T09:54:08.056568",
     "exception": false,
     "start_time": "2023-07-02T09:54:07.318415",
     "status": "completed"
    },
    "tags": []
   },
   "outputs": [
    {
     "data": {
      "text/plain": [
       "<Figure size 600x600 with 0 Axes>"
      ]
     },
     "metadata": {},
     "output_type": "display_data"
    },
    {
     "data": {
      "image/png": "[encoded data removed]",
      "text/plain": [
       "<Figure size 500x500 with 1 Axes>"
      ]
     },
     "metadata": {},
     "output_type": "display_data"
    }
   ],
   "source": [
    "#Item_Outlet_Sales distribution\n",
    "plt.figure(figsize=(6,6))\n",
    "sns.displot(big_mart_data['Item_Outlet_Sales'])\n",
    "plt.show()"
   ]
  },
  {
   "cell_type": "code",
   "execution_count": 16,
   "id": "6013241d",
   "metadata": {
    "execution": {
     "iopub.execute_input": "2023-07-02T09:54:08.086908Z",
     "iopub.status.busy": "2023-07-02T09:54:08.086408Z",
     "iopub.status.idle": "2023-07-02T09:54:08.461733Z",
     "shell.execute_reply": "2023-07-02T09:54:08.460452Z"
    },
    "papermill": {
     "duration": 0.393725,
     "end_time": "2023-07-02T09:54:08.464434",
     "exception": false,
     "start_time": "2023-07-02T09:54:08.070709",
     "status": "completed"
    },
    "tags": []
   },
   "outputs": [
    {
     "data": {
      "image/png": "[encoded data removed]",
      "text/plain": [
       "<Figure size 600x600 with 1 Axes>"
      ]
     },
     "metadata": {},
     "output_type": "display_data"
    }
   ],
   "source": [
    "#Outlet_establishment_year column\n",
    "plt.figure(figsize=(6,6))\n",
    "sns.countplot(x='Outlet_Establishment_Year',data=big_mart_data)\n",
    "plt.show()"
   ]
  },
  {
   "cell_type": "markdown",
   "id": "92ac5f72",
   "metadata": {
    "papermill": {
     "duration": 0.01491,
     "end_time": "2023-07-02T09:54:08.493977",
     "exception": false,
     "start_time": "2023-07-02T09:54:08.479067",
     "status": "completed"
    },
    "tags": []
   },
   "source": [
    "**Categorical Features**"
   ]
  },
  {
   "cell_type": "code",
   "execution_count": 17,
   "id": "5821b4ba",
   "metadata": {
    "execution": {
     "iopub.execute_input": "2023-07-02T09:54:08.525577Z",
     "iopub.status.busy": "2023-07-02T09:54:08.524931Z",
     "iopub.status.idle": "2023-07-02T09:54:08.831311Z",
     "shell.execute_reply": "2023-07-02T09:54:08.830150Z"
    },
    "papermill": {
     "duration": 0.325317,
     "end_time": "2023-07-02T09:54:08.833908",
     "exception": false,
     "start_time": "2023-07-02T09:54:08.508591",
     "status": "completed"
    },
    "tags": []
   },
   "outputs": [
    {
     "data": {
      "image/png": "[encoded data removed]",
      "text/plain": [
       "<Figure size 600x600 with 1 Axes>"
      ]
     },
     "metadata": {},
     "output_type": "display_data"
    }
   ],
   "source": [
    "#Item_Fat_Content column\n",
    "plt.figure(figsize=(6,6))\n",
    "sns.countplot(x='Item_Fat_Content',data=big_mart_data)\n",
    "plt.show()"
   ]
  },
  {
   "cell_type": "code",
   "execution_count": 18,
   "id": "84416719",
   "metadata": {
    "execution": {
     "iopub.execute_input": "2023-07-02T09:54:08.872865Z",
     "iopub.status.busy": "2023-07-02T09:54:08.872354Z",
     "iopub.status.idle": "2023-07-02T09:54:09.612266Z",
     "shell.execute_reply": "2023-07-02T09:54:09.610943Z"
    },
    "papermill": {
     "duration": 0.765047,
     "end_time": "2023-07-02T09:54:09.615251",
     "exception": false,
     "start_time": "2023-07-02T09:54:08.850204",
     "status": "completed"
    },
    "tags": []
   },
   "outputs": [
    {
     "data": {
      "image/png": "[encoded data removed]",
      "text/plain": [
       "<Figure size 3000x600 with 1 Axes>"
      ]
     },
     "metadata": {},
     "output_type": "display_data"
    }
   ],
   "source": [
    "#Item_Type distribution\n",
    "plt.figure(figsize=(30,6))\n",
    "sns.countplot(x='Item_Type',data=big_mart_data)\n",
    "plt.show()"
   ]
  },
  {
   "cell_type": "markdown",
   "id": "e1c3a48f",
   "metadata": {
    "papermill": {
     "duration": 0.015731,
     "end_time": "2023-07-02T09:54:09.647019",
     "exception": false,
     "start_time": "2023-07-02T09:54:09.631288",
     "status": "completed"
    },
    "tags": []
   },
   "source": [
    "**Data Pre-Processing**"
   ]
  },
  {
   "cell_type": "code",
   "execution_count": 19,
   "id": "2af35241",
   "metadata": {
    "execution": {
     "iopub.execute_input": "2023-07-02T09:54:09.681593Z",
     "iopub.status.busy": "2023-07-02T09:54:09.680766Z",
     "iopub.status.idle": "2023-07-02T09:54:09.699843Z",
     "shell.execute_reply": "2023-07-02T09:54:09.698695Z"
    },
    "papermill": {
     "duration": 0.039435,
     "end_time": "2023-07-02T09:54:09.702483",
     "exception": false,
     "start_time": "2023-07-02T09:54:09.663048",
     "status": "completed"
    },
    "tags": []
   },
   "outputs": [
    {
     "data": {
      "text/html": [
       "<div>\n",
       "<style scoped>\n",
       "    .dataframe tbody tr th:only-of-type {\n",
       "        vertical-align: middle;\n",
       "    }\n",
       "\n",
       "    .dataframe tbody tr th {\n",
       "        vertical-align: top;\n",
       "    }\n",
       "\n",
       "    .dataframe thead th {\n",
       "        text-align: right;\n",
       "    }\n",
       "</style>\n",
       "<table border=\"1\" class=\"dataframe\">\n",
       "  <thead>\n",
       "    <tr style=\"text-align: right;\">\n",
       "      <th></th>\n",
       "      <th>Item_Identifier</th>\n",
       "      <th>Item_Weight</th>\n",
       "      <th>Item_Fat_Content</th>\n",
       "      <th>Item_Visibility</th>\n",
       "      <th>Item_Type</th>\n",
       "      <th>Item_MRP</th>\n",
       "      <th>Outlet_Identifier</th>\n",
       "      <th>Outlet_Establishment_Year</th>\n",
       "      <th>Outlet_Size</th>\n",
       "      <th>Outlet_Location_Type</th>\n",
       "      <th>Outlet_Type</th>\n",
       "      <th>Item_Outlet_Sales</th>\n",
       "    </tr>\n",
       "  </thead>\n",
       "  <tbody>\n",
       "    <tr>\n",
       "      <th>0</th>\n",
       "      <td>FDA15</td>\n",
       "      <td>9.30</td>\n",
       "      <td>Low Fat</td>\n",
       "      <td>0.016047</td>\n",
       "      <td>Dairy</td>\n",
       "      <td>249.8092</td>\n",
       "      <td>OUT049</td>\n",
       "      <td>1999</td>\n",
       "      <td>Medium</td>\n",
       "      <td>Tier 1</td>\n",
       "      <td>Supermarket Type1</td>\n",
       "      <td>3735.1380</td>\n",
       "    </tr>\n",
       "    <tr>\n",
       "      <th>1</th>\n",
       "      <td>DRC01</td>\n",
       "      <td>5.92</td>\n",
       "      <td>Regular</td>\n",
       "      <td>0.019278</td>\n",
       "      <td>Soft Drinks</td>\n",
       "      <td>48.2692</td>\n",
       "      <td>OUT018</td>\n",
       "      <td>2009</td>\n",
       "      <td>Medium</td>\n",
       "      <td>Tier 3</td>\n",
       "      <td>Supermarket Type2</td>\n",
       "      <td>443.4228</td>\n",
       "    </tr>\n",
       "    <tr>\n",
       "      <th>2</th>\n",
       "      <td>FDN15</td>\n",
       "      <td>17.50</td>\n",
       "      <td>Low Fat</td>\n",
       "      <td>0.016760</td>\n",
       "      <td>Meat</td>\n",
       "      <td>141.6180</td>\n",
       "      <td>OUT049</td>\n",
       "      <td>1999</td>\n",
       "      <td>Medium</td>\n",
       "      <td>Tier 1</td>\n",
       "      <td>Supermarket Type1</td>\n",
       "      <td>2097.2700</td>\n",
       "    </tr>\n",
       "    <tr>\n",
       "      <th>3</th>\n",
       "      <td>FDX07</td>\n",
       "      <td>19.20</td>\n",
       "      <td>Regular</td>\n",
       "      <td>0.000000</td>\n",
       "      <td>Fruits and Vegetables</td>\n",
       "      <td>182.0950</td>\n",
       "      <td>OUT010</td>\n",
       "      <td>1998</td>\n",
       "      <td>Medium</td>\n",
       "      <td>Tier 3</td>\n",
       "      <td>Grocery Store</td>\n",
       "      <td>732.3800</td>\n",
       "    </tr>\n",
       "    <tr>\n",
       "      <th>4</th>\n",
       "      <td>NCD19</td>\n",
       "      <td>8.93</td>\n",
       "      <td>Low Fat</td>\n",
       "      <td>0.000000</td>\n",
       "      <td>Household</td>\n",
       "      <td>53.8614</td>\n",
       "      <td>OUT013</td>\n",
       "      <td>1987</td>\n",
       "      <td>High</td>\n",
       "      <td>Tier 3</td>\n",
       "      <td>Supermarket Type1</td>\n",
       "      <td>994.7052</td>\n",
       "    </tr>\n",
       "  </tbody>\n",
       "</table>\n",
       "</div>"
      ],
      "text/plain": [
       "  Item_Identifier  Item_Weight Item_Fat_Content  Item_Visibility  \\\n",
       "0           FDA15         9.30          Low Fat         0.016047   \n",
       "1           DRC01         5.92          Regular         0.019278   \n",
       "2           FDN15        17.50          Low Fat         0.016760   \n",
       "3           FDX07        19.20          Regular         0.000000   \n",
       "4           NCD19         8.93          Low Fat         0.000000   \n",
       "\n",
       "               Item_Type  Item_MRP Outlet_Identifier  \\\n",
       "0                  Dairy  249.8092            OUT049   \n",
       "1            Soft Drinks   48.2692            OUT018   \n",
       "2                   Meat  141.6180            OUT049   \n",
       "3  Fruits and Vegetables  182.0950            OUT010   \n",
       "4              Household   53.8614            OUT013   \n",
       "\n",
       "   Outlet_Establishment_Year Outlet_Size Outlet_Location_Type  \\\n",
       "0                       1999      Medium               Tier 1   \n",
       "1                       2009      Medium               Tier 3   \n",
       "2                       1999      Medium               Tier 1   \n",
       "3                       1998      Medium               Tier 3   \n",
       "4                       1987        High               Tier 3   \n",
       "\n",
       "         Outlet_Type  Item_Outlet_Sales  \n",
       "0  Supermarket Type1          3735.1380  \n",
       "1  Supermarket Type2           443.4228  \n",
       "2  Supermarket Type1          2097.2700  \n",
       "3      Grocery Store           732.3800  \n",
       "4  Supermarket Type1           994.7052  "
      ]
     },
     "execution_count": 19,
     "metadata": {},
     "output_type": "execute_result"
    }
   ],
   "source": [
    "big_mart_data.head()"
   ]
  },
  {
   "cell_type": "code",
   "execution_count": 20,
   "id": "7b5d1ce1",
   "metadata": {
    "execution": {
     "iopub.execute_input": "2023-07-02T09:54:09.737896Z",
     "iopub.status.busy": "2023-07-02T09:54:09.737092Z",
     "iopub.status.idle": "2023-07-02T09:54:09.750221Z",
     "shell.execute_reply": "2023-07-02T09:54:09.749046Z"
    },
    "papermill": {
     "duration": 0.033376,
     "end_time": "2023-07-02T09:54:09.752586",
     "exception": false,
     "start_time": "2023-07-02T09:54:09.719210",
     "status": "completed"
    },
    "tags": []
   },
   "outputs": [
    {
     "data": {
      "text/plain": [
       "Low Fat    5089\n",
       "Regular    2889\n",
       "LF          316\n",
       "reg         117\n",
       "low fat     112\n",
       "Name: Item_Fat_Content, dtype: int64"
      ]
     },
     "execution_count": 20,
     "metadata": {},
     "output_type": "execute_result"
    }
   ],
   "source": [
    "big_mart_data['Item_Fat_Content'].value_counts()"
   ]
  },
  {
   "cell_type": "code",
   "execution_count": 21,
   "id": "62248360",
   "metadata": {
    "execution": {
     "iopub.execute_input": "2023-07-02T09:54:09.787433Z",
     "iopub.status.busy": "2023-07-02T09:54:09.787048Z",
     "iopub.status.idle": "2023-07-02T09:54:09.796950Z",
     "shell.execute_reply": "2023-07-02T09:54:09.795997Z"
    },
    "papermill": {
     "duration": 0.030259,
     "end_time": "2023-07-02T09:54:09.799417",
     "exception": false,
     "start_time": "2023-07-02T09:54:09.769158",
     "status": "completed"
    },
    "tags": []
   },
   "outputs": [],
   "source": [
    "big_mart_data.replace({'Item_Fat_Content':{'low fat':'Low Fat','LF':'Low Fat','reg':\"Regular\"}},inplace=True)"
   ]
  },
  {
   "cell_type": "markdown",
   "id": "71fc11c4",
   "metadata": {
    "papermill": {
     "duration": 0.016002,
     "end_time": "2023-07-02T09:54:09.831699",
     "exception": false,
     "start_time": "2023-07-02T09:54:09.815697",
     "status": "completed"
    },
    "tags": []
   },
   "source": [
    "**Label Encoding**"
   ]
  },
  {
   "cell_type": "code",
   "execution_count": 22,
   "id": "d4d1e278",
   "metadata": {
    "execution": {
     "iopub.execute_input": "2023-07-02T09:54:09.865686Z",
     "iopub.status.busy": "2023-07-02T09:54:09.865317Z",
     "iopub.status.idle": "2023-07-02T09:54:09.869996Z",
     "shell.execute_reply": "2023-07-02T09:54:09.868794Z"
    },
    "papermill": {
     "duration": 0.024613,
     "end_time": "2023-07-02T09:54:09.872324",
     "exception": false,
     "start_time": "2023-07-02T09:54:09.847711",
     "status": "completed"
    },
    "tags": []
   },
   "outputs": [],
   "source": [
    "#Converting the Categorical values to numeric values\n",
    "encoder=LabelEncoder()\n"
   ]
  },
  {
   "cell_type": "code",
   "execution_count": 23,
   "id": "af887695",
   "metadata": {
    "execution": {
     "iopub.execute_input": "2023-07-02T09:54:09.906891Z",
     "iopub.status.busy": "2023-07-02T09:54:09.906189Z",
     "iopub.status.idle": "2023-07-02T09:54:09.941320Z",
     "shell.execute_reply": "2023-07-02T09:54:09.940464Z"
    },
    "papermill": {
     "duration": 0.055247,
     "end_time": "2023-07-02T09:54:09.943882",
     "exception": false,
     "start_time": "2023-07-02T09:54:09.888635",
     "status": "completed"
    },
    "tags": []
   },
   "outputs": [],
   "source": [
    "big_mart_data['Item_Identifier']=encoder.fit_transform(big_mart_data[\"Item_Identifier\"])\n",
    "big_mart_data['Item_Fat_Content']=encoder.fit_transform(big_mart_data[\"Item_Fat_Content\"])\n",
    "big_mart_data['Item_Type']=encoder.fit_transform(big_mart_data[\"Item_Type\"])\n",
    "big_mart_data['Outlet_Identifier']=encoder.fit_transform(big_mart_data[\"Outlet_Identifier\"])\n",
    "big_mart_data['Outlet_Size']=encoder.fit_transform(big_mart_data[\"Outlet_Size\"])\n",
    "big_mart_data['Outlet_Location_Type']=encoder.fit_transform(big_mart_data[\"Outlet_Location_Type\"])\n",
    "big_mart_data['Outlet_Type']=encoder.fit_transform(big_mart_data[\"Outlet_Type\"])\n"
   ]
  },
  {
   "cell_type": "code",
   "execution_count": 24,
   "id": "9c9946e4",
   "metadata": {
    "execution": {
     "iopub.execute_input": "2023-07-02T09:54:09.978314Z",
     "iopub.status.busy": "2023-07-02T09:54:09.977372Z",
     "iopub.status.idle": "2023-07-02T09:54:09.993292Z",
     "shell.execute_reply": "2023-07-02T09:54:09.992463Z"
    },
    "papermill": {
     "duration": 0.035522,
     "end_time": "2023-07-02T09:54:09.995522",
     "exception": false,
     "start_time": "2023-07-02T09:54:09.960000",
     "status": "completed"
    },
    "tags": []
   },
   "outputs": [
    {
     "data": {
      "text/html": [
       "<div>\n",
       "<style scoped>\n",
       "    .dataframe tbody tr th:only-of-type {\n",
       "        vertical-align: middle;\n",
       "    }\n",
       "\n",
       "    .dataframe tbody tr th {\n",
       "        vertical-align: top;\n",
       "    }\n",
       "\n",
       "    .dataframe thead th {\n",
       "        text-align: right;\n",
       "    }\n",
       "</style>\n",
       "<table border=\"1\" class=\"dataframe\">\n",
       "  <thead>\n",
       "    <tr style=\"text-align: right;\">\n",
       "      <th></th>\n",
       "      <th>Item_Identifier</th>\n",
       "      <th>Item_Weight</th>\n",
       "      <th>Item_Fat_Content</th>\n",
       "      <th>Item_Visibility</th>\n",
       "      <th>Item_Type</th>\n",
       "      <th>Item_MRP</th>\n",
       "      <th>Outlet_Identifier</th>\n",
       "      <th>Outlet_Establishment_Year</th>\n",
       "      <th>Outlet_Size</th>\n",
       "      <th>Outlet_Location_Type</th>\n",
       "      <th>Outlet_Type</th>\n",
       "      <th>Item_Outlet_Sales</th>\n",
       "    </tr>\n",
       "  </thead>\n",
       "  <tbody>\n",
       "    <tr>\n",
       "      <th>0</th>\n",
       "      <td>156</td>\n",
       "      <td>9.30</td>\n",
       "      <td>0</td>\n",
       "      <td>0.016047</td>\n",
       "      <td>4</td>\n",
       "      <td>249.8092</td>\n",
       "      <td>9</td>\n",
       "      <td>1999</td>\n",
       "      <td>1</td>\n",
       "      <td>0</td>\n",
       "      <td>1</td>\n",
       "      <td>3735.1380</td>\n",
       "    </tr>\n",
       "    <tr>\n",
       "      <th>1</th>\n",
       "      <td>8</td>\n",
       "      <td>5.92</td>\n",
       "      <td>1</td>\n",
       "      <td>0.019278</td>\n",
       "      <td>14</td>\n",
       "      <td>48.2692</td>\n",
       "      <td>3</td>\n",
       "      <td>2009</td>\n",
       "      <td>1</td>\n",
       "      <td>2</td>\n",
       "      <td>2</td>\n",
       "      <td>443.4228</td>\n",
       "    </tr>\n",
       "    <tr>\n",
       "      <th>2</th>\n",
       "      <td>662</td>\n",
       "      <td>17.50</td>\n",
       "      <td>0</td>\n",
       "      <td>0.016760</td>\n",
       "      <td>10</td>\n",
       "      <td>141.6180</td>\n",
       "      <td>9</td>\n",
       "      <td>1999</td>\n",
       "      <td>1</td>\n",
       "      <td>0</td>\n",
       "      <td>1</td>\n",
       "      <td>2097.2700</td>\n",
       "    </tr>\n",
       "    <tr>\n",
       "      <th>3</th>\n",
       "      <td>1121</td>\n",
       "      <td>19.20</td>\n",
       "      <td>1</td>\n",
       "      <td>0.000000</td>\n",
       "      <td>6</td>\n",
       "      <td>182.0950</td>\n",
       "      <td>0</td>\n",
       "      <td>1998</td>\n",
       "      <td>1</td>\n",
       "      <td>2</td>\n",
       "      <td>0</td>\n",
       "      <td>732.3800</td>\n",
       "    </tr>\n",
       "    <tr>\n",
       "      <th>4</th>\n",
       "      <td>1297</td>\n",
       "      <td>8.93</td>\n",
       "      <td>0</td>\n",
       "      <td>0.000000</td>\n",
       "      <td>9</td>\n",
       "      <td>53.8614</td>\n",
       "      <td>1</td>\n",
       "      <td>1987</td>\n",
       "      <td>0</td>\n",
       "      <td>2</td>\n",
       "      <td>1</td>\n",
       "      <td>994.7052</td>\n",
       "    </tr>\n",
       "  </tbody>\n",
       "</table>\n",
       "</div>"
      ],
      "text/plain": [
       "   Item_Identifier  Item_Weight  Item_Fat_Content  Item_Visibility  Item_Type  \\\n",
       "0              156         9.30                 0         0.016047          4   \n",
       "1                8         5.92                 1         0.019278         14   \n",
       "2              662        17.50                 0         0.016760         10   \n",
       "3             1121        19.20                 1         0.000000          6   \n",
       "4             1297         8.93                 0         0.000000          9   \n",
       "\n",
       "   Item_MRP  Outlet_Identifier  Outlet_Establishment_Year  Outlet_Size  \\\n",
       "0  249.8092                  9                       1999            1   \n",
       "1   48.2692                  3                       2009            1   \n",
       "2  141.6180                  9                       1999            1   \n",
       "3  182.0950                  0                       1998            1   \n",
       "4   53.8614                  1                       1987            0   \n",
       "\n",
       "   Outlet_Location_Type  Outlet_Type  Item_Outlet_Sales  \n",
       "0                     0            1          3735.1380  \n",
       "1                     2            2           443.4228  \n",
       "2                     0            1          2097.2700  \n",
       "3                     2            0           732.3800  \n",
       "4                     2            1           994.7052  "
      ]
     },
     "execution_count": 24,
     "metadata": {},
     "output_type": "execute_result"
    }
   ],
   "source": [
    "big_mart_data.head()"
   ]
  },
  {
   "cell_type": "markdown",
   "id": "ef37bf26",
   "metadata": {
    "papermill": {
     "duration": 0.016028,
     "end_time": "2023-07-02T09:54:10.027888",
     "exception": false,
     "start_time": "2023-07-02T09:54:10.011860",
     "status": "completed"
    },
    "tags": []
   },
   "source": [
    "**Splitting Features and Target**"
   ]
  },
  {
   "cell_type": "code",
   "execution_count": 25,
   "id": "f3ca5ba5",
   "metadata": {
    "execution": {
     "iopub.execute_input": "2023-07-02T09:54:10.063054Z",
     "iopub.status.busy": "2023-07-02T09:54:10.062326Z",
     "iopub.status.idle": "2023-07-02T09:54:10.068681Z",
     "shell.execute_reply": "2023-07-02T09:54:10.067848Z"
    },
    "papermill": {
     "duration": 0.026725,
     "end_time": "2023-07-02T09:54:10.070906",
     "exception": false,
     "start_time": "2023-07-02T09:54:10.044181",
     "status": "completed"
    },
    "tags": []
   },
   "outputs": [],
   "source": [
    "X=big_mart_data.drop(columns='Item_Outlet_Sales',axis=1)\n",
    "Y=big_mart_data['Item_Outlet_Sales']"
   ]
  },
  {
   "cell_type": "markdown",
   "id": "4ad37868",
   "metadata": {
    "papermill": {
     "duration": 0.016158,
     "end_time": "2023-07-02T09:54:10.103373",
     "exception": false,
     "start_time": "2023-07-02T09:54:10.087215",
     "status": "completed"
    },
    "tags": []
   },
   "source": [
    "**Splitting the Dataset into Traning and Testing Data**"
   ]
  },
  {
   "cell_type": "code",
   "execution_count": 26,
   "id": "87e9ff7e",
   "metadata": {
    "execution": {
     "iopub.execute_input": "2023-07-02T09:54:10.138487Z",
     "iopub.status.busy": "2023-07-02T09:54:10.137822Z",
     "iopub.status.idle": "2023-07-02T09:54:10.147494Z",
     "shell.execute_reply": "2023-07-02T09:54:10.146049Z"
    },
    "papermill": {
     "duration": 0.03017,
     "end_time": "2023-07-02T09:54:10.149876",
     "exception": false,
     "start_time": "2023-07-02T09:54:10.119706",
     "status": "completed"
    },
    "tags": []
   },
   "outputs": [
    {
     "name": "stdout",
     "output_type": "stream",
     "text": [
      "(8523, 11) (6818, 11) (1705, 11)\n"
     ]
    }
   ],
   "source": [
    "X_train,X_test,Y_train,Y_test=train_test_split(X,Y,test_size=0.2,random_state=2)\n",
    "print(X.shape,X_train.shape,X_test.shape)"
   ]
  },
  {
   "cell_type": "markdown",
   "id": "cd3c4512",
   "metadata": {
    "papermill": {
     "duration": 0.017159,
     "end_time": "2023-07-02T09:54:10.183402",
     "exception": false,
     "start_time": "2023-07-02T09:54:10.166243",
     "status": "completed"
    },
    "tags": []
   },
   "source": [
    "**Machine Learning Model Training**"
   ]
  },
  {
   "cell_type": "code",
   "execution_count": 27,
   "id": "7aa43647",
   "metadata": {
    "execution": {
     "iopub.execute_input": "2023-07-02T09:54:10.219328Z",
     "iopub.status.busy": "2023-07-02T09:54:10.218565Z",
     "iopub.status.idle": "2023-07-02T09:54:20.052710Z",
     "shell.execute_reply": "2023-07-02T09:54:20.051722Z"
    },
    "papermill": {
     "duration": 9.854829,
     "end_time": "2023-07-02T09:54:20.055468",
     "exception": false,
     "start_time": "2023-07-02T09:54:10.200639",
     "status": "completed"
    },
    "tags": []
   },
   "outputs": [
    {
     "name": "stdout",
     "output_type": "stream",
     "text": [
      "Test RMSE: 1146.9892969544237\n",
      "Best Hyperparameters:\n",
      "gamma: 0.1\n",
      "learning_rate: 0.025\n",
      "max_depth: 6\n",
      "n_estimators: 350\n"
     ]
    }
   ],
   "source": [
    "regressor=XGBRegressor()\n",
    "import xgboost as xgb\n",
    "from sklearn.model_selection import train_test_split, GridSearchCV\n",
    "from sklearn.metrics import mean_squared_error\n",
    "param_grid = {\n",
    "    'n_estimators': [350],\n",
    "    'learning_rate': [0.025],\n",
    "    'max_depth': [6],\n",
    "    'gamma': [0.1],\n",
    "}\n",
    "# Perform grid search with cross-validation\n",
    "grid_search = GridSearchCV(estimator=regressor, param_grid=param_grid, cv=5, scoring='neg_mean_squared_error')\n",
    "grid_search.fit(X_train, Y_train)\n",
    "# Get the best model and its hyperparameters\n",
    "best_regressor = grid_search.best_estimator_\n",
    "best_params = grid_search.best_params_\n",
    "\n",
    "y_pred = best_regressor.predict(X_test)\n",
    "\n",
    "# Calculate the root mean squared error (RMSE) on the test set\n",
    "rmse = mean_squared_error(Y_test, y_pred, squared=False)\n",
    "print(\"Test RMSE:\", rmse)\n",
    "\n",
    "\n",
    "# Print the best hyperparameters found during grid search\n",
    "print(\"Best Hyperparameters:\")\n",
    "for param, value in best_params.items():\n",
    "    print(f\"{param}: {value}\")\n"
   ]
  },
  {
   "cell_type": "code",
   "execution_count": 28,
   "id": "04772798",
   "metadata": {
    "execution": {
     "iopub.execute_input": "2023-07-02T09:54:20.092507Z",
     "iopub.status.busy": "2023-07-02T09:54:20.091343Z",
     "iopub.status.idle": "2023-07-02T09:54:20.099078Z",
     "shell.execute_reply": "2023-07-02T09:54:20.097668Z"
    },
    "papermill": {
     "duration": 0.02815,
     "end_time": "2023-07-02T09:54:20.101444",
     "exception": false,
     "start_time": "2023-07-02T09:54:20.073294",
     "status": "completed"
    },
    "tags": []
   },
   "outputs": [
    {
     "name": "stdout",
     "output_type": "stream",
     "text": [
      "0.5738410726283185\n"
     ]
    }
   ],
   "source": [
    "r2_score=metrics.r2_score(Y_test,y_pred)\n",
    "print(r2_score)"
   ]
  }
 ],
 "metadata": {
  "kernelspec": {
   "display_name": "Python 3",
   "language": "python",
   "name": "python3"
  },
  "language_info": {
   "codemirror_mode": {
    "name": "ipython",
    "version": 3
   },
   "file_extension": ".py",
   "mimetype": "text/x-python",
   "name": "python",
   "nbconvert_exporter": "python",
   "pygments_lexer": "ipython3",
   "version": "3.10.10"
  },
  "papermill": {
   "default_parameters": {},
   "duration": 30.723155,
   "end_time": "2023-07-02T09:54:21.141303",
   "environment_variables": {},
   "exception": null,
   "input_path": "__notebook__.ipynb",
   "output_path": "__notebook__.ipynb",
   "parameters": {},
   "start_time": "2023-07-02T09:53:50.418148",
   "version": "2.4.0"
  }
 },
 "nbformat": 4,
 "nbformat_minor": 5
}
