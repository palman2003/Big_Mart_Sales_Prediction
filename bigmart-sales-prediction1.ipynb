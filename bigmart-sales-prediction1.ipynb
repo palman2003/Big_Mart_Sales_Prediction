{
 "cells": [
  {
   "cell_type": "code",
   "execution_count": 1,
   "id": "efce2ca7",
   "metadata": {
    "_cell_guid": "b1076dfc-b9ad-4769-8c92-a6c4dae69d19",
    "_uuid": "8f2839f25d086af736a60e9eeb907d3b93b6e0e5",
    "execution": {
     "iopub.execute_input": "2023-06-29T06:53:38.635546Z",
     "iopub.status.busy": "2023-06-29T06:53:38.634997Z",
     "iopub.status.idle": "2023-06-29T06:53:38.658532Z",
     "shell.execute_reply": "2023-06-29T06:53:38.657167Z"
    },
    "papermill": {
     "duration": 0.037484,
     "end_time": "2023-06-29T06:53:38.661579",
     "exception": false,
     "start_time": "2023-06-29T06:53:38.624095",
     "status": "completed"
    },
    "tags": []
   },
   "outputs": [
    {
     "name": "stdout",
     "output_type": "stream",
     "text": [
      "/kaggle/input/bigmart-sales-data/Train.csv\n",
      "/kaggle/input/bigmart-sales-data/Test.csv\n"
     ]
    }
   ],
   "source": [
    "# This Python 3 environment comes with many helpful analytics libraries installed\n",
    "# It is defined by the kaggle/python Docker image: https://github.com/kaggle/docker-python\n",
    "# For example, here's several helpful packages to load\n",
    "\n",
    "import numpy as np # linear algebra\n",
    "import pandas as pd # data processing, CSV file I/O (e.g. pd.read_csv)\n",
    "\n",
    "# Input data files are available in the read-only \"../input/\" directory\n",
    "# For example, running this (by clicking run or pressing Shift+Enter) will list all files under the input directory\n",
    "\n",
    "import os\n",
    "for dirname, _, filenames in os.walk('/kaggle/input'):\n",
    "    for filename in filenames:\n",
    "        print(os.path.join(dirname, filename))\n",
    "\n",
    "# You can write up to 20GB to the current directory (/kaggle/working/) that gets preserved as output when you create a version using \"Save & Run All\" \n",
    "# You can also write temporary files to /kaggle/temp/, but they won't be saved outside of the current session"
   ]
  },
  {
   "cell_type": "markdown",
   "id": "8812863d",
   "metadata": {
    "papermill": {
     "duration": 0.006945,
     "end_time": "2023-06-29T06:53:38.676449",
     "exception": false,
     "start_time": "2023-06-29T06:53:38.669504",
     "status": "completed"
    },
    "tags": []
   },
   "source": [
    "**IMPORTING MODULES**"
   ]
  },
  {
   "cell_type": "code",
   "execution_count": 2,
   "id": "5673b1f3",
   "metadata": {
    "execution": {
     "iopub.execute_input": "2023-06-29T06:53:38.693251Z",
     "iopub.status.busy": "2023-06-29T06:53:38.692788Z",
     "iopub.status.idle": "2023-06-29T06:53:41.047292Z",
     "shell.execute_reply": "2023-06-29T06:53:41.046159Z"
    },
    "papermill": {
     "duration": 2.366634,
     "end_time": "2023-06-29T06:53:41.050255",
     "exception": false,
     "start_time": "2023-06-29T06:53:38.683621",
     "status": "completed"
    },
    "tags": []
   },
   "outputs": [],
   "source": [
    "import pandas as pd\n",
    "import numpy as np\n",
    "import matplotlib.pyplot as plt\n",
    "import seaborn as sns\n",
    "from sklearn.preprocessing import LabelEncoder\n",
    "from sklearn.model_selection import train_test_split\n",
    "from xgboost import XGBRegressor\n",
    "from sklearn import metrics\n",
    "\n"
   ]
  },
  {
   "cell_type": "markdown",
   "id": "c0d8782f",
   "metadata": {
    "papermill": {
     "duration": 0.006786,
     "end_time": "2023-06-29T06:53:41.064356",
     "exception": false,
     "start_time": "2023-06-29T06:53:41.057570",
     "status": "completed"
    },
    "tags": []
   },
   "source": [
    "**EXPOLATORY DATA ANALYSIS**"
   ]
  },
  {
   "cell_type": "code",
   "execution_count": 3,
   "id": "0dfcf562",
   "metadata": {
    "execution": {
     "iopub.execute_input": "2023-06-29T06:53:41.080953Z",
     "iopub.status.busy": "2023-06-29T06:53:41.080456Z",
     "iopub.status.idle": "2023-06-29T06:53:41.182183Z",
     "shell.execute_reply": "2023-06-29T06:53:41.180950Z"
    },
    "papermill": {
     "duration": 0.114244,
     "end_time": "2023-06-29T06:53:41.185588",
     "exception": false,
     "start_time": "2023-06-29T06:53:41.071344",
     "status": "completed"
    },
    "tags": []
   },
   "outputs": [
    {
     "data": {
      "text/html": [
       "<div>\n",
       "<style scoped>\n",
       "    .dataframe tbody tr th:only-of-type {\n",
       "        vertical-align: middle;\n",
       "    }\n",
       "\n",
       "    .dataframe tbody tr th {\n",
       "        vertical-align: top;\n",
       "    }\n",
       "\n",
       "    .dataframe thead th {\n",
       "        text-align: right;\n",
       "    }\n",
       "</style>\n",
       "<table border=\"1\" class=\"dataframe\">\n",
       "  <thead>\n",
       "    <tr style=\"text-align: right;\">\n",
       "      <th></th>\n",
       "      <th>Item_Identifier</th>\n",
       "      <th>Item_Weight</th>\n",
       "      <th>Item_Fat_Content</th>\n",
       "      <th>Item_Visibility</th>\n",
       "      <th>Item_Type</th>\n",
       "      <th>Item_MRP</th>\n",
       "      <th>Outlet_Identifier</th>\n",
       "      <th>Outlet_Establishment_Year</th>\n",
       "      <th>Outlet_Size</th>\n",
       "      <th>Outlet_Location_Type</th>\n",
       "      <th>Outlet_Type</th>\n",
       "      <th>Item_Outlet_Sales</th>\n",
       "    </tr>\n",
       "  </thead>\n",
       "  <tbody>\n",
       "    <tr>\n",
       "      <th>0</th>\n",
       "      <td>FDA15</td>\n",
       "      <td>9.30</td>\n",
       "      <td>Low Fat</td>\n",
       "      <td>0.016047</td>\n",
       "      <td>Dairy</td>\n",
       "      <td>249.8092</td>\n",
       "      <td>OUT049</td>\n",
       "      <td>1999</td>\n",
       "      <td>Medium</td>\n",
       "      <td>Tier 1</td>\n",
       "      <td>Supermarket Type1</td>\n",
       "      <td>3735.1380</td>\n",
       "    </tr>\n",
       "    <tr>\n",
       "      <th>1</th>\n",
       "      <td>DRC01</td>\n",
       "      <td>5.92</td>\n",
       "      <td>Regular</td>\n",
       "      <td>0.019278</td>\n",
       "      <td>Soft Drinks</td>\n",
       "      <td>48.2692</td>\n",
       "      <td>OUT018</td>\n",
       "      <td>2009</td>\n",
       "      <td>Medium</td>\n",
       "      <td>Tier 3</td>\n",
       "      <td>Supermarket Type2</td>\n",
       "      <td>443.4228</td>\n",
       "    </tr>\n",
       "    <tr>\n",
       "      <th>2</th>\n",
       "      <td>FDN15</td>\n",
       "      <td>17.50</td>\n",
       "      <td>Low Fat</td>\n",
       "      <td>0.016760</td>\n",
       "      <td>Meat</td>\n",
       "      <td>141.6180</td>\n",
       "      <td>OUT049</td>\n",
       "      <td>1999</td>\n",
       "      <td>Medium</td>\n",
       "      <td>Tier 1</td>\n",
       "      <td>Supermarket Type1</td>\n",
       "      <td>2097.2700</td>\n",
       "    </tr>\n",
       "    <tr>\n",
       "      <th>3</th>\n",
       "      <td>FDX07</td>\n",
       "      <td>19.20</td>\n",
       "      <td>Regular</td>\n",
       "      <td>0.000000</td>\n",
       "      <td>Fruits and Vegetables</td>\n",
       "      <td>182.0950</td>\n",
       "      <td>OUT010</td>\n",
       "      <td>1998</td>\n",
       "      <td>NaN</td>\n",
       "      <td>Tier 3</td>\n",
       "      <td>Grocery Store</td>\n",
       "      <td>732.3800</td>\n",
       "    </tr>\n",
       "    <tr>\n",
       "      <th>4</th>\n",
       "      <td>NCD19</td>\n",
       "      <td>8.93</td>\n",
       "      <td>Low Fat</td>\n",
       "      <td>0.000000</td>\n",
       "      <td>Household</td>\n",
       "      <td>53.8614</td>\n",
       "      <td>OUT013</td>\n",
       "      <td>1987</td>\n",
       "      <td>High</td>\n",
       "      <td>Tier 3</td>\n",
       "      <td>Supermarket Type1</td>\n",
       "      <td>994.7052</td>\n",
       "    </tr>\n",
       "  </tbody>\n",
       "</table>\n",
       "</div>"
      ],
      "text/plain": [
       "  Item_Identifier  Item_Weight Item_Fat_Content  Item_Visibility  \\\n",
       "0           FDA15         9.30          Low Fat         0.016047   \n",
       "1           DRC01         5.92          Regular         0.019278   \n",
       "2           FDN15        17.50          Low Fat         0.016760   \n",
       "3           FDX07        19.20          Regular         0.000000   \n",
       "4           NCD19         8.93          Low Fat         0.000000   \n",
       "\n",
       "               Item_Type  Item_MRP Outlet_Identifier  \\\n",
       "0                  Dairy  249.8092            OUT049   \n",
       "1            Soft Drinks   48.2692            OUT018   \n",
       "2                   Meat  141.6180            OUT049   \n",
       "3  Fruits and Vegetables  182.0950            OUT010   \n",
       "4              Household   53.8614            OUT013   \n",
       "\n",
       "   Outlet_Establishment_Year Outlet_Size Outlet_Location_Type  \\\n",
       "0                       1999      Medium               Tier 1   \n",
       "1                       2009      Medium               Tier 3   \n",
       "2                       1999      Medium               Tier 1   \n",
       "3                       1998         NaN               Tier 3   \n",
       "4                       1987        High               Tier 3   \n",
       "\n",
       "         Outlet_Type  Item_Outlet_Sales  \n",
       "0  Supermarket Type1          3735.1380  \n",
       "1  Supermarket Type2           443.4228  \n",
       "2  Supermarket Type1          2097.2700  \n",
       "3      Grocery Store           732.3800  \n",
       "4  Supermarket Type1           994.7052  "
      ]
     },
     "execution_count": 3,
     "metadata": {},
     "output_type": "execute_result"
    }
   ],
   "source": [
    "big_mart_data=pd.read_csv('/kaggle/input/bigmart-sales-data/Train.csv')\n",
    "big_mart_data.head()"
   ]
  },
  {
   "cell_type": "code",
   "execution_count": 4,
   "id": "58cd5337",
   "metadata": {
    "execution": {
     "iopub.execute_input": "2023-06-29T06:53:41.205047Z",
     "iopub.status.busy": "2023-06-29T06:53:41.204542Z",
     "iopub.status.idle": "2023-06-29T06:53:41.238755Z",
     "shell.execute_reply": "2023-06-29T06:53:41.237521Z"
    },
    "papermill": {
     "duration": 0.048738,
     "end_time": "2023-06-29T06:53:41.241769",
     "exception": false,
     "start_time": "2023-06-29T06:53:41.193031",
     "status": "completed"
    },
    "tags": []
   },
   "outputs": [
    {
     "data": {
      "text/plain": [
       "Item_Identifier                 0\n",
       "Item_Weight                  1463\n",
       "Item_Fat_Content                0\n",
       "Item_Visibility                 0\n",
       "Item_Type                       0\n",
       "Item_MRP                        0\n",
       "Outlet_Identifier               0\n",
       "Outlet_Establishment_Year       0\n",
       "Outlet_Size                  2410\n",
       "Outlet_Location_Type            0\n",
       "Outlet_Type                     0\n",
       "Item_Outlet_Sales               0\n",
       "dtype: int64"
      ]
     },
     "execution_count": 4,
     "metadata": {},
     "output_type": "execute_result"
    }
   ],
   "source": [
    "#check the missing values\n",
    "big_mart_data.isnull().sum()\n"
   ]
  },
  {
   "cell_type": "code",
   "execution_count": 5,
   "id": "28774db2",
   "metadata": {
    "execution": {
     "iopub.execute_input": "2023-06-29T06:53:41.259458Z",
     "iopub.status.busy": "2023-06-29T06:53:41.258957Z",
     "iopub.status.idle": "2023-06-29T06:53:41.268685Z",
     "shell.execute_reply": "2023-06-29T06:53:41.267466Z"
    },
    "papermill": {
     "duration": 0.022415,
     "end_time": "2023-06-29T06:53:41.271906",
     "exception": false,
     "start_time": "2023-06-29T06:53:41.249491",
     "status": "completed"
    },
    "tags": []
   },
   "outputs": [],
   "source": [
    "#replacing the missing values with the mean(for numeric type) and mode(for str type)\n",
    "mean_val=big_mart_data['Item_Weight'].mean()\n",
    "#fillng the Item_weight with the mean values\n",
    "big_mart_data['Item_Weight'].fillna(mean_val,inplace=True)"
   ]
  },
  {
   "cell_type": "code",
   "execution_count": 6,
   "id": "4eb6884b",
   "metadata": {
    "execution": {
     "iopub.execute_input": "2023-06-29T06:53:41.290354Z",
     "iopub.status.busy": "2023-06-29T06:53:41.289835Z",
     "iopub.status.idle": "2023-06-29T06:53:41.323261Z",
     "shell.execute_reply": "2023-06-29T06:53:41.321705Z"
    },
    "papermill": {
     "duration": 0.045858,
     "end_time": "2023-06-29T06:53:41.326118",
     "exception": false,
     "start_time": "2023-06-29T06:53:41.280260",
     "status": "completed"
    },
    "tags": []
   },
   "outputs": [
    {
     "name": "stdout",
     "output_type": "stream",
     "text": [
      "Outlet_Type Grocery Store Supermarket Type1 Supermarket Type2  \\\n",
      "Outlet_Size         Small             Small            Medium   \n",
      "\n",
      "Outlet_Type Supermarket Type3  \n",
      "Outlet_Size            Medium  \n"
     ]
    }
   ],
   "source": [
    "#replacing the missing values in Outlet_size with mode\n",
    "mode_outlet_size=big_mart_data.pivot_table(values='Outlet_Size',columns='Outlet_Type',aggfunc=(lambda x:x.mode()[0]))\n",
    "print(mode_outlet_size)"
   ]
  },
  {
   "cell_type": "code",
   "execution_count": 7,
   "id": "5db1111b",
   "metadata": {
    "execution": {
     "iopub.execute_input": "2023-06-29T06:53:41.344072Z",
     "iopub.status.busy": "2023-06-29T06:53:41.343608Z",
     "iopub.status.idle": "2023-06-29T06:53:41.353233Z",
     "shell.execute_reply": "2023-06-29T06:53:41.352276Z"
    },
    "papermill": {
     "duration": 0.022428,
     "end_time": "2023-06-29T06:53:41.356338",
     "exception": false,
     "start_time": "2023-06-29T06:53:41.333910",
     "status": "completed"
    },
    "tags": []
   },
   "outputs": [
    {
     "name": "stdout",
     "output_type": "stream",
     "text": [
      "0       False\n",
      "1       False\n",
      "2       False\n",
      "3        True\n",
      "4       False\n",
      "        ...  \n",
      "8518    False\n",
      "8519     True\n",
      "8520    False\n",
      "8521    False\n",
      "8522    False\n",
      "Name: Outlet_Size, Length: 8523, dtype: bool\n"
     ]
    }
   ],
   "source": [
    "missing_values=big_mart_data['Outlet_Size'].isnull()\n",
    "print(missing_values)"
   ]
  },
  {
   "cell_type": "code",
   "execution_count": 8,
   "id": "b9e29f28",
   "metadata": {
    "execution": {
     "iopub.execute_input": "2023-06-29T06:53:41.374845Z",
     "iopub.status.busy": "2023-06-29T06:53:41.374028Z",
     "iopub.status.idle": "2023-06-29T06:53:41.385781Z",
     "shell.execute_reply": "2023-06-29T06:53:41.384217Z"
    },
    "papermill": {
     "duration": 0.026759,
     "end_time": "2023-06-29T06:53:41.390952",
     "exception": false,
     "start_time": "2023-06-29T06:53:41.364193",
     "status": "completed"
    },
    "tags": []
   },
   "outputs": [],
   "source": [
    "big_mart_data.loc[missing_values,'Outlet_Size']=big_mart_data.loc[missing_values,'Outlet_Type'].apply(lambda x:mode_outlet_size)"
   ]
  },
  {
   "cell_type": "markdown",
   "id": "3eb94e44",
   "metadata": {
    "papermill": {
     "duration": 0.007465,
     "end_time": "2023-06-29T06:53:41.408274",
     "exception": false,
     "start_time": "2023-06-29T06:53:41.400809",
     "status": "completed"
    },
    "tags": []
   },
   "source": [
    "**DATA ANALYSIS**"
   ]
  },
  {
   "cell_type": "code",
   "execution_count": 9,
   "id": "774d6e74",
   "metadata": {
    "execution": {
     "iopub.execute_input": "2023-06-29T06:53:41.425908Z",
     "iopub.status.busy": "2023-06-29T06:53:41.425432Z",
     "iopub.status.idle": "2023-06-29T06:53:41.461978Z",
     "shell.execute_reply": "2023-06-29T06:53:41.460731Z"
    },
    "papermill": {
     "duration": 0.048799,
     "end_time": "2023-06-29T06:53:41.464837",
     "exception": false,
     "start_time": "2023-06-29T06:53:41.416038",
     "status": "completed"
    },
    "tags": []
   },
   "outputs": [
    {
     "data": {
      "text/html": [
       "<div>\n",
       "<style scoped>\n",
       "    .dataframe tbody tr th:only-of-type {\n",
       "        vertical-align: middle;\n",
       "    }\n",
       "\n",
       "    .dataframe tbody tr th {\n",
       "        vertical-align: top;\n",
       "    }\n",
       "\n",
       "    .dataframe thead th {\n",
       "        text-align: right;\n",
       "    }\n",
       "</style>\n",
       "<table border=\"1\" class=\"dataframe\">\n",
       "  <thead>\n",
       "    <tr style=\"text-align: right;\">\n",
       "      <th></th>\n",
       "      <th>Item_Weight</th>\n",
       "      <th>Item_Visibility</th>\n",
       "      <th>Item_MRP</th>\n",
       "      <th>Outlet_Establishment_Year</th>\n",
       "      <th>Item_Outlet_Sales</th>\n",
       "    </tr>\n",
       "  </thead>\n",
       "  <tbody>\n",
       "    <tr>\n",
       "      <th>count</th>\n",
       "      <td>8523.000000</td>\n",
       "      <td>8523.000000</td>\n",
       "      <td>8523.000000</td>\n",
       "      <td>8523.000000</td>\n",
       "      <td>8523.000000</td>\n",
       "    </tr>\n",
       "    <tr>\n",
       "      <th>mean</th>\n",
       "      <td>12.857645</td>\n",
       "      <td>0.066132</td>\n",
       "      <td>140.992782</td>\n",
       "      <td>1997.831867</td>\n",
       "      <td>2181.288914</td>\n",
       "    </tr>\n",
       "    <tr>\n",
       "      <th>std</th>\n",
       "      <td>4.226124</td>\n",
       "      <td>0.051598</td>\n",
       "      <td>62.275067</td>\n",
       "      <td>8.371760</td>\n",
       "      <td>1706.499616</td>\n",
       "    </tr>\n",
       "    <tr>\n",
       "      <th>min</th>\n",
       "      <td>4.555000</td>\n",
       "      <td>0.000000</td>\n",
       "      <td>31.290000</td>\n",
       "      <td>1985.000000</td>\n",
       "      <td>33.290000</td>\n",
       "    </tr>\n",
       "    <tr>\n",
       "      <th>25%</th>\n",
       "      <td>9.310000</td>\n",
       "      <td>0.026989</td>\n",
       "      <td>93.826500</td>\n",
       "      <td>1987.000000</td>\n",
       "      <td>834.247400</td>\n",
       "    </tr>\n",
       "    <tr>\n",
       "      <th>50%</th>\n",
       "      <td>12.857645</td>\n",
       "      <td>0.053931</td>\n",
       "      <td>143.012800</td>\n",
       "      <td>1999.000000</td>\n",
       "      <td>1794.331000</td>\n",
       "    </tr>\n",
       "    <tr>\n",
       "      <th>75%</th>\n",
       "      <td>16.000000</td>\n",
       "      <td>0.094585</td>\n",
       "      <td>185.643700</td>\n",
       "      <td>2004.000000</td>\n",
       "      <td>3101.296400</td>\n",
       "    </tr>\n",
       "    <tr>\n",
       "      <th>max</th>\n",
       "      <td>21.350000</td>\n",
       "      <td>0.328391</td>\n",
       "      <td>266.888400</td>\n",
       "      <td>2009.000000</td>\n",
       "      <td>13086.964800</td>\n",
       "    </tr>\n",
       "  </tbody>\n",
       "</table>\n",
       "</div>"
      ],
      "text/plain": [
       "       Item_Weight  Item_Visibility     Item_MRP  Outlet_Establishment_Year  \\\n",
       "count  8523.000000      8523.000000  8523.000000                8523.000000   \n",
       "mean     12.857645         0.066132   140.992782                1997.831867   \n",
       "std       4.226124         0.051598    62.275067                   8.371760   \n",
       "min       4.555000         0.000000    31.290000                1985.000000   \n",
       "25%       9.310000         0.026989    93.826500                1987.000000   \n",
       "50%      12.857645         0.053931   143.012800                1999.000000   \n",
       "75%      16.000000         0.094585   185.643700                2004.000000   \n",
       "max      21.350000         0.328391   266.888400                2009.000000   \n",
       "\n",
       "       Item_Outlet_Sales  \n",
       "count        8523.000000  \n",
       "mean         2181.288914  \n",
       "std          1706.499616  \n",
       "min            33.290000  \n",
       "25%           834.247400  \n",
       "50%          1794.331000  \n",
       "75%          3101.296400  \n",
       "max         13086.964800  "
      ]
     },
     "execution_count": 9,
     "metadata": {},
     "output_type": "execute_result"
    }
   ],
   "source": [
    "big_mart_data.describe()"
   ]
  },
  {
   "cell_type": "code",
   "execution_count": 10,
   "id": "ce741670",
   "metadata": {
    "execution": {
     "iopub.execute_input": "2023-06-29T06:53:41.484033Z",
     "iopub.status.busy": "2023-06-29T06:53:41.483576Z",
     "iopub.status.idle": "2023-06-29T06:53:41.490108Z",
     "shell.execute_reply": "2023-06-29T06:53:41.488785Z"
    },
    "papermill": {
     "duration": 0.01916,
     "end_time": "2023-06-29T06:53:41.492354",
     "exception": false,
     "start_time": "2023-06-29T06:53:41.473194",
     "status": "completed"
    },
    "tags": []
   },
   "outputs": [],
   "source": [
    "sns.set()"
   ]
  },
  {
   "cell_type": "code",
   "execution_count": 11,
   "id": "48589f6f",
   "metadata": {
    "execution": {
     "iopub.execute_input": "2023-06-29T06:53:41.513233Z",
     "iopub.status.busy": "2023-06-29T06:53:41.510899Z",
     "iopub.status.idle": "2023-06-29T06:53:42.312982Z",
     "shell.execute_reply": "2023-06-29T06:53:42.311475Z"
    },
    "papermill": {
     "duration": 0.81543,
     "end_time": "2023-06-29T06:53:42.316332",
     "exception": false,
     "start_time": "2023-06-29T06:53:41.500902",
     "status": "completed"
    },
    "tags": []
   },
   "outputs": [
    {
     "data": {
      "text/plain": [
       "<Figure size 600x600 with 0 Axes>"
      ]
     },
     "metadata": {},
     "output_type": "display_data"
    },
    {
     "data": {
      "image/png": "[encoded data removed]",
      "text/plain": [
       "<Figure size 500x500 with 1 Axes>"
      ]
     },
     "metadata": {},
     "output_type": "display_data"
    }
   ],
   "source": [
    "#Item_type distribution\n",
    "plt.figure(figsize=(6,6))\n",
    "sns.displot(big_mart_data['Item_Weight'])\n",
    "plt.show()"
   ]
  },
  {
   "cell_type": "code",
   "execution_count": 12,
   "id": "92315794",
   "metadata": {
    "execution": {
     "iopub.execute_input": "2023-06-29T06:53:42.336730Z",
     "iopub.status.busy": "2023-06-29T06:53:42.336210Z",
     "iopub.status.idle": "2023-06-29T06:53:42.995098Z",
     "shell.execute_reply": "2023-06-29T06:53:42.993478Z"
    },
    "papermill": {
     "duration": 0.672311,
     "end_time": "2023-06-29T06:53:42.997951",
     "exception": false,
     "start_time": "2023-06-29T06:53:42.325640",
     "status": "completed"
    },
    "tags": []
   },
   "outputs": [
    {
     "data": {
      "text/plain": [
       "<Figure size 600x600 with 0 Axes>"
      ]
     },
     "metadata": {},
     "output_type": "display_data"
    },
    {
     "data": {
      "image/png": "[encoded data removed]",
      "text/plain": [
       "<Figure size 500x500 with 1 Axes>"
      ]
     },
     "metadata": {},
     "output_type": "display_data"
    }
   ],
   "source": [
    "#Item_visibility Distribution\n",
    "plt.figure(figsize=(6,6))\n",
    "sns.displot(big_mart_data['Item_Visibility'])\n",
    "plt.show()"
   ]
  },
  {
   "cell_type": "code",
   "execution_count": 13,
   "id": "7cf2dc4c",
   "metadata": {
    "execution": {
     "iopub.execute_input": "2023-06-29T06:53:43.020799Z",
     "iopub.status.busy": "2023-06-29T06:53:43.019189Z",
     "iopub.status.idle": "2023-06-29T06:53:43.582630Z",
     "shell.execute_reply": "2023-06-29T06:53:43.581449Z"
    },
    "papermill": {
     "duration": 0.577691,
     "end_time": "2023-06-29T06:53:43.585389",
     "exception": false,
     "start_time": "2023-06-29T06:53:43.007698",
     "status": "completed"
    },
    "tags": []
   },
   "outputs": [
    {
     "data": {
      "text/plain": [
       "<Figure size 600x600 with 0 Axes>"
      ]
     },
     "metadata": {},
     "output_type": "display_data"
    },
    {
     "data": {
      "image/png": "[encoded data removed]",
      "text/plain": [
       "<Figure size 500x500 with 1 Axes>"
      ]
     },
     "metadata": {},
     "output_type": "display_data"
    }
   ],
   "source": [
    "#Item_MRP Distribution\n",
    "plt.figure(figsize=(6,6))\n",
    "sns.displot(big_mart_data['Item_MRP'])\n",
    "plt.show()"
   ]
  },
  {
   "cell_type": "code",
   "execution_count": 14,
   "id": "356fd1ed",
   "metadata": {
    "execution": {
     "iopub.execute_input": "2023-06-29T06:53:43.607502Z",
     "iopub.status.busy": "2023-06-29T06:53:43.606989Z",
     "iopub.status.idle": "2023-06-29T06:53:44.371640Z",
     "shell.execute_reply": "2023-06-29T06:53:44.370651Z"
    },
    "papermill": {
     "duration": 0.778998,
     "end_time": "2023-06-29T06:53:44.374128",
     "exception": false,
     "start_time": "2023-06-29T06:53:43.595130",
     "status": "completed"
    },
    "tags": []
   },
   "outputs": [
    {
     "data": {
      "text/plain": [
       "<Figure size 600x600 with 0 Axes>"
      ]
     },
     "metadata": {},
     "output_type": "display_data"
    },
    {
     "data": {
      "image/png": "[encoded data removed]",
      "text/plain": [
       "<Figure size 500x500 with 1 Axes>"
      ]
     },
     "metadata": {},
     "output_type": "display_data"
    }
   ],
   "source": [
    "#Item_Outlet_Sales distribution\n",
    "plt.figure(figsize=(6,6))\n",
    "sns.displot(big_mart_data['Item_Outlet_Sales'])\n",
    "plt.show()"
   ]
  },
  {
   "cell_type": "code",
   "execution_count": 15,
   "id": "7146b821",
   "metadata": {
    "execution": {
     "iopub.execute_input": "2023-06-29T06:53:44.398475Z",
     "iopub.status.busy": "2023-06-29T06:53:44.397972Z",
     "iopub.status.idle": "2023-06-29T06:53:44.779504Z",
     "shell.execute_reply": "2023-06-29T06:53:44.778077Z"
    },
    "papermill": {
     "duration": 0.397511,
     "end_time": "2023-06-29T06:53:44.782427",
     "exception": false,
     "start_time": "2023-06-29T06:53:44.384916",
     "status": "completed"
    },
    "tags": []
   },
   "outputs": [
    {
     "data": {
      "image/png": "[encoded data removed]",
      "text/plain": [
       "<Figure size 600x600 with 1 Axes>"
      ]
     },
     "metadata": {},
     "output_type": "display_data"
    }
   ],
   "source": [
    "#Outlet_establishment_year column\n",
    "plt.figure(figsize=(6,6))\n",
    "sns.countplot(x='Outlet_Establishment_Year',data=big_mart_data)\n",
    "plt.show()"
   ]
  },
  {
   "cell_type": "markdown",
   "id": "a1cb9386",
   "metadata": {
    "papermill": {
     "duration": 0.01041,
     "end_time": "2023-06-29T06:53:44.803485",
     "exception": false,
     "start_time": "2023-06-29T06:53:44.793075",
     "status": "completed"
    },
    "tags": []
   },
   "source": [
    "**Categorical Features**"
   ]
  },
  {
   "cell_type": "code",
   "execution_count": 16,
   "id": "7a682e9f",
   "metadata": {
    "execution": {
     "iopub.execute_input": "2023-06-29T06:53:44.828515Z",
     "iopub.status.busy": "2023-06-29T06:53:44.827336Z",
     "iopub.status.idle": "2023-06-29T06:53:45.211327Z",
     "shell.execute_reply": "2023-06-29T06:53:45.210080Z"
    },
    "papermill": {
     "duration": 0.399875,
     "end_time": "2023-06-29T06:53:45.214348",
     "exception": false,
     "start_time": "2023-06-29T06:53:44.814473",
     "status": "completed"
    },
    "tags": []
   },
   "outputs": [
    {
     "data": {
      "image/png": "[encoded data removed]",
      "text/plain": [
       "<Figure size 600x600 with 1 Axes>"
      ]
     },
     "metadata": {},
     "output_type": "display_data"
    }
   ],
   "source": [
    "#Item_Fat_Content column\n",
    "plt.figure(figsize=(6,6))\n",
    "sns.countplot(x='Outlet_Establishment_Year',data=big_mart_data)\n",
    "plt.show()"
   ]
  }
 ],
 "metadata": {
  "kernelspec": {
   "display_name": "Python 3",
   "language": "python",
   "name": "python3"
  },
  "language_info": {
   "codemirror_mode": {
    "name": "ipython",
    "version": 3
   },
   "file_extension": ".py",
   "mimetype": "text/x-python",
   "name": "python",
   "nbconvert_exporter": "python",
   "pygments_lexer": "ipython3",
   "version": "3.10.10"
  },
  "papermill": {
   "default_parameters": {},
   "duration": 24.984108,
   "end_time": "2023-06-29T06:53:47.658149",
   "environment_variables": {},
   "exception": null,
   "input_path": "__notebook__.ipynb",
   "output_path": "__notebook__.ipynb",
   "parameters": {},
   "start_time": "2023-06-29T06:53:22.674041",
   "version": "2.4.0"
  }
 },
 "nbformat": 4,
 "nbformat_minor": 5
}
